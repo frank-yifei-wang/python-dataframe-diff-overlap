{
 "cells": [
  {
   "cell_type": "markdown",
   "metadata": {},
   "source": [
    "## Compare DataFrames A & B to find rows in A only, in B only and in both A & B or vice versa (\"difference & overlap\")\n",
    "\n",
    "2022-02-07 Developed by frank-yifei-wang@GitHub  ([GitHub repo](https://github.com/frank-yifei-wang/python-dataframe-diff-overlap/))"
   ]
  },
  {
   "cell_type": "markdown",
   "metadata": {},
   "source": [
    "### Prep & read data lists"
   ]
  },
  {
   "cell_type": "code",
   "execution_count": 1,
   "metadata": {},
   "outputs": [],
   "source": [
    "import pandas as pd"
   ]
  },
  {
   "cell_type": "code",
   "execution_count": 2,
   "metadata": {},
   "outputs": [],
   "source": [
    "df_A = pd.read_csv(\"A.csv\")\n",
    "df_B = pd.read_csv(\"B.csv\")"
   ]
  },
  {
   "cell_type": "markdown",
   "metadata": {},
   "source": [
    "### Set id column to compare on and do quick checks"
   ]
  },
  {
   "cell_type": "code",
   "execution_count": 3,
   "metadata": {},
   "outputs": [],
   "source": [
    "id_col = \"id\"  # Specify the id column to compare on"
   ]
  },
  {
   "cell_type": "code",
   "execution_count": 4,
   "metadata": {},
   "outputs": [
    {
     "data": {
      "text/plain": [
       "False"
      ]
     },
     "execution_count": 4,
     "metadata": {},
     "output_type": "execute_result"
    }
   ],
   "source": [
    "df_A.equals(df_B)"
   ]
  },
  {
   "cell_type": "code",
   "execution_count": 5,
   "metadata": {},
   "outputs": [
    {
     "data": {
      "text/plain": [
       "(4, 3)"
      ]
     },
     "execution_count": 5,
     "metadata": {},
     "output_type": "execute_result"
    }
   ],
   "source": [
    "df_A.shape"
   ]
  },
  {
   "cell_type": "code",
   "execution_count": 6,
   "metadata": {},
   "outputs": [
    {
     "data": {
      "text/plain": [
       "(4, 4)"
      ]
     },
     "execution_count": 6,
     "metadata": {},
     "output_type": "execute_result"
    }
   ],
   "source": [
    "df_B.shape"
   ]
  },
  {
   "cell_type": "code",
   "execution_count": 7,
   "metadata": {},
   "outputs": [
    {
     "data": {
      "text/plain": [
       "3"
      ]
     },
     "execution_count": 7,
     "metadata": {},
     "output_type": "execute_result"
    }
   ],
   "source": [
    "len(pd.unique(df_A[id_col]))"
   ]
  },
  {
   "cell_type": "code",
   "execution_count": 8,
   "metadata": {},
   "outputs": [
    {
     "data": {
      "text/plain": [
       "4"
      ]
     },
     "execution_count": 8,
     "metadata": {},
     "output_type": "execute_result"
    }
   ],
   "source": [
    "len(pd.unique(df_B[id_col]))"
   ]
  },
  {
   "cell_type": "markdown",
   "metadata": {},
   "source": [
    "### Cross-compare to find ids of records in A only, in B only and in both A and B"
   ]
  },
  {
   "cell_type": "code",
   "execution_count": 9,
   "metadata": {},
   "outputs": [],
   "source": [
    "id_A = set(df_A[id_col])\n",
    "id_B = set(df_B[id_col])\n",
    "\n",
    "id_A_only = id_A.difference(id_B)       # Find ids in A only but not in B (\"A diffs B\")\n",
    "id_B_only = id_B.difference(id_A)       # Find ids in B only but not in A (\"B diffs A\")\n",
    "\n",
    "id_A_B_both = id_A.intersection(id_B)   # Find ids in A and in B as well (\"A overlaps B\")\n",
    "id_B_A_both = id_B.intersection(id_A)   # Find ids in B and in A as well (\"B overlaps A\")"
   ]
  },
  {
   "cell_type": "code",
   "execution_count": 10,
   "metadata": {},
   "outputs": [],
   "source": [
    "# Can convert the id_cols to str type and zero-pad for nicer look, but then they won't match the original dfs unless dfs are also zero-padded\n",
    "# import numpy as np\n",
    "# id_A = set(df_A[id_col].astype(np.int64).astype(str).str.zfill(13).unique())\n",
    "# id_B = set(df_B[id_col].astype(np.int64).astype(str).str.zfill(13).unique())\n",
    "\n",
    "# Can call DataFrame.unique() to find distinct ids but Python's native set() above simply works fine\n",
    "# id_A = set(df_A[id_col].unique())\n",
    "# id_B = set(df_B[id_col].unique())"
   ]
  },
  {
   "cell_type": "markdown",
   "metadata": {},
   "source": [
    "### Verify the found ids"
   ]
  },
  {
   "cell_type": "code",
   "execution_count": 11,
   "metadata": {},
   "outputs": [
    {
     "data": {
      "text/plain": [
       "(set(), set())"
      ]
     },
     "execution_count": 11,
     "metadata": {},
     "output_type": "execute_result"
    }
   ],
   "source": [
    "# Verify the two diff result sets are really mutually exclusive - output should be empty sets: (set(), set())\n",
    "id_A_only.intersection(id_B_only), id_B_only.intersection(id_A_only)"
   ]
  },
  {
   "cell_type": "code",
   "execution_count": 12,
   "metadata": {},
   "outputs": [
    {
     "data": {
      "text/plain": [
       "True"
      ]
     },
     "execution_count": 12,
     "metadata": {},
     "output_type": "execute_result"
    }
   ],
   "source": [
    "# Verify the two overlapping sets are really overlapping - output should be True\n",
    "id_A_B_both == id_B_A_both"
   ]
  },
  {
   "cell_type": "markdown",
   "metadata": {},
   "source": [
    "### Produce full result tables that cross-reference the original tables"
   ]
  },
  {
   "cell_type": "code",
   "execution_count": 13,
   "metadata": {},
   "outputs": [],
   "source": [
    "df_A_only = df_A[df_A[id_col].isin(id_A_only)].copy()   # copy() to get a copy instead of a slice which causes warning for the next line\n",
    "df_A_only[\"Rownum_In_Original\"] = df_A_only.index + 2   # + 2 to make the rownum one-based instead of zero-based and account for header row so as to show the exact rownum in Excel view\n",
    "\n",
    "df_B_only = df_B[df_B[id_col].isin(id_B_only)].copy()\n",
    "df_B_only[\"Rownum_In_Original\"] = df_B_only.index + 2"
   ]
  },
  {
   "cell_type": "code",
   "execution_count": 14,
   "metadata": {},
   "outputs": [],
   "source": [
    "df_A_B_both = df_A[df_A[id_col].isin(id_A_B_both)].copy()\n",
    "df_A_B_both[\"Rownum_In_Original\"] = df_A_B_both.index + 2\n",
    "\n",
    "df_B_A_both = df_B[df_B[id_col].isin(id_B_A_both)].copy()\n",
    "df_B_A_both[\"Rownum_In_Original\"] = df_B_A_both.index + 2"
   ]
  },
  {
   "cell_type": "code",
   "execution_count": 15,
   "metadata": {},
   "outputs": [],
   "source": [
    "# Can also get the opposite dfs (not only in df_A, not only in df_B) - only if needed\n",
    "# df_A_only_not = df_A[~df_A[id_col].isin(id_A_only)].copy()\n",
    "# df_B_only_not = df_B[~df_B[id_col].isin(id_B_only)].copy()"
   ]
  },
  {
   "cell_type": "markdown",
   "metadata": {},
   "source": [
    "### Save result lists to CSV files"
   ]
  },
  {
   "cell_type": "code",
   "execution_count": 16,
   "metadata": {},
   "outputs": [],
   "source": [
    "df_A_only.to_csv(\"A_only.csv\", index=False)   # No need to keep the (misleading) index column - the Rownum_In_Original column will show which row comes from where in the original data list\n",
    "df_B_only.to_csv(\"B_only.csv\", index=False)\n",
    "df_A_B_both.to_csv(\"A_B_both.csv\", index=False)\n",
    "df_B_A_both.to_csv(\"B_A_both.csv\", index=False)"
   ]
  },
  {
   "cell_type": "markdown",
   "metadata": {},
   "source": [
    "### Double check variables generated in the process"
   ]
  },
  {
   "cell_type": "code",
   "execution_count": null,
   "metadata": {},
   "outputs": [],
   "source": [
    "%whos"
   ]
  }
 ],
 "metadata": {
  "interpreter": {
   "hash": "2f301d640832bfe75e48be7952f6bc900795c9c71803ba64c350003e1f90fd72"
  },
  "kernelspec": {
   "display_name": "Python 3 (ipykernel)",
   "language": "python",
   "name": "python3"
  },
  "language_info": {
   "codemirror_mode": {
    "name": "ipython",
    "version": 3
   },
   "file_extension": ".py",
   "mimetype": "text/x-python",
   "name": "python",
   "nbconvert_exporter": "python",
   "pygments_lexer": "ipython3",
   "version": "3.9.5"
  }
 },
 "nbformat": 4,
 "nbformat_minor": 4
}
